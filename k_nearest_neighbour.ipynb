{
  "nbformat": 4,
  "nbformat_minor": 0,
  "metadata": {
    "colab": {
      "name": "k_nearest_neighbour.ipynb",
      "provenance": [],
      "collapsed_sections": []
    },
    "kernelspec": {
      "name": "python3",
      "display_name": "Python 3"
    },
    "language_info": {
      "name": "python"
    }
  },
  "cells": [
    {
      "cell_type": "markdown",
      "metadata": {
        "id": "f3h6hkDBFtwX"
      },
      "source": [
        "**Project Description :-**\n",
        "\n",
        "Lets imagine that you are working in the recycling division of the department of energy. The government has requested your division to identify the types of plastics found in the sea so that they can take necessary actions to reduce or prevent their usage. You are required to find the type of plastic, given its remains from the sea\n",
        "\n",
        "Assuming that there are only six different types d plastics. The compositions of plastics vary over a specific range of values. You are provided with the data regarding the range of composition percentages, properties and the corresponding types of plastic."
      ]
    },
    {
      "cell_type": "code",
      "metadata": {
        "id": "5WE0F1VIhpMh"
      },
      "source": [
        "from sklearn.model_selection import train_test_split\n",
        "import numpy as np"
      ],
      "execution_count": 1,
      "outputs": []
    },
    {
      "cell_type": "code",
      "metadata": {
        "id": "wDj7QyhXIsmY"
      },
      "source": [
        "X = np.genfromtxt(\"train_X_knn.csv\", delimiter=',', dtype=np.float64, skip_header=1)\n",
        "Y = np.genfromtxt(\"train_Y_knn.csv\", delimiter=',', dtype=int)"
      ],
      "execution_count": 2,
      "outputs": []
    },
    {
      "cell_type": "code",
      "metadata": {
        "id": "IcmIf4wdjCuW"
      },
      "source": [
        "X_train, X_test, Y_train, Y_test = train_test_split(X, Y, train_size=0.7, random_state=1)"
      ],
      "execution_count": 3,
      "outputs": []
    },
    {
      "cell_type": "code",
      "metadata": {
        "id": "IX4_U5rQh1Vu"
      },
      "source": [
        "\"\"\"\n",
        "Returns:\n",
        "ln norm distance\n",
        "\"\"\"\n",
        "def compute_ln_norm_distance(vector1, vector2, n):\n",
        "    sum = 0\n",
        "    for i in range(len(vector2)):\n",
        "        sum = sum + abs((vector2[i]-vector1[i])**(n))\n",
        "    return (sum)**(1/n)"
      ],
      "execution_count": 4,
      "outputs": []
    },
    {
      "cell_type": "code",
      "metadata": {
        "id": "uH8xaPcBh6Nv"
      },
      "source": [
        "\"\"\"\n",
        "Returns:\n",
        "Indices of the 1st k- nearest neighbors in train_X, in the order with nearest first.\n",
        "\"\"\"\n",
        "def find_k_nearest_neighbors(train_X, test_example, k, n):\n",
        "    indices_dist_pairs = []\n",
        "    index= 0\n",
        "    for train_elem_x in train_X:\n",
        "        distance = compute_ln_norm_distance(train_elem_x, test_example, n)\n",
        "        indices_dist_pairs.append([index, distance])\n",
        "        index += 1\n",
        "    indices_dist_pairs.sort(key = lambda x: x[1])\n",
        "    top_k_pairs = indices_dist_pairs[:k]\n",
        "    top_k_indices = [i[0] for i in top_k_pairs]\n",
        "    return top_k_indices"
      ],
      "execution_count": 5,
      "outputs": []
    },
    {
      "cell_type": "code",
      "metadata": {
        "id": "Ee67DHIdh_-B"
      },
      "source": [
        "\"\"\"\n",
        "Returns:\n",
        "Classified points using knn method\n",
        "\"\"\"\n",
        "def classify_points_using_knn(train_X, train_Y, test_X, k, n):\n",
        "    classified_Y = []\n",
        "    for test_elem_x in test_X:\n",
        "        top_k_nn_indices = find_k_nearest_neighbors(train_X, test_elem_x, k, n)\n",
        "        top_knn_labels = []\n",
        "\n",
        "        for i in top_k_nn_indices:\n",
        "            top_knn_labels.append(train_Y[i])\n",
        "        Y_values = list(set(top_knn_labels))\n",
        "\n",
        "        max_count = 0\n",
        "        most_frequent_label = -1\n",
        "        for y in Y_values:\n",
        "            count = top_knn_labels.count(y)\n",
        "            if(count > max_count):\n",
        "                max_count = count\n",
        "                most_frequent_label = y\n",
        "\n",
        "        classified_Y.append(most_frequent_label)\n",
        "    return np.array(classified_Y)"
      ],
      "execution_count": 6,
      "outputs": []
    },
    {
      "cell_type": "code",
      "metadata": {
        "id": "NU1V-C5Eh_7M"
      },
      "source": [
        "\"\"\"\n",
        "Returns:\n",
        "Calculates accuracy of the model.\n",
        "\"\"\"\n",
        "def calculate_accuracy(predicted_Y, actual_Y):\n",
        "    count = 0\n",
        "    for i in range(len(predicted_Y)):\n",
        "        if (predicted_Y[i] == actual_Y[i]):\n",
        "            count += 1\n",
        "    return (count/len(actual_Y))"
      ],
      "execution_count": 7,
      "outputs": []
    },
    {
      "cell_type": "code",
      "metadata": {
        "id": "U4IPC-89h_33"
      },
      "source": [
        "\"\"\"\n",
        "Returns K value based on validation data.\n",
        "\"\"\"\n",
        "def best_k_and_best_n_value_using_validation_set(train_X, train_Y, validation_split_percent):\n",
        "    import math \n",
        "    total_num_of_observations = len(train_X)\n",
        "    train_length = math.floor((100 - validation_split_percent)/100 * total_num_of_observations )\n",
        "    validation_X = train_X[train_length :]\n",
        "    validation_Y = train_Y[train_length :]\n",
        "    train_X = train_X[0 : train_length]\n",
        "    train_Y = train_Y[0 : train_length]\n",
        " \n",
        "    best_k = -1\n",
        "    best_accuracy = 0\n",
        "    best_N = -1\n",
        "    for n in range(1, 20):\n",
        "        for k in range(1, train_length+1):\n",
        "            predicted_Y = classify_points_using_knn(train_X, train_Y, validation_X, n, k)\n",
        "            accuracy = calculate_accuracy(predicted_Y, validation_Y)\n",
        "            if accuracy > best_accuracy:\n",
        "                best_k, best_N = k, n\n",
        "                best_accuracy = accuracy\n",
        "\n",
        "    return best_k, best_N"
      ],
      "execution_count": 8,
      "outputs": []
    },
    {
      "cell_type": "code",
      "metadata": {
        "colab": {
          "base_uri": "https://localhost:8080/"
        },
        "id": "Yp2QesLfh_0L",
        "outputId": "69fe2b45-b325-4b4e-be50-30e5f3ca5447"
      },
      "source": [
        "best_K, best_n = best_k_and_best_n_value_using_validation_set(X_train, Y_train, validation_split_percent = 70)\n",
        "print(\"Best value of K and N using cross validation : \", best_K,\"and\", best_n)"
      ],
      "execution_count": 13,
      "outputs": [
        {
          "output_type": "stream",
          "text": [
            "Best value of K and N using cross validation :  1 and 6\n"
          ],
          "name": "stdout"
        }
      ]
    },
    {
      "cell_type": "code",
      "metadata": {
        "id": "z6_3f2eoh_ww"
      },
      "source": [
        "\"\"\"\n",
        "Returns the classified value.\n",
        "\"\"\"\n",
        "def predict_target_values(X, Y, best_K, best_n):\n",
        "    test_X = X\n",
        "    X = X.tolist()\n",
        "    Y = Y.tolist()\n",
        "    predicted_Y = classify_points_using_knn(X, Y, test_X, best_K, best_n)\n",
        "    return predicted_Y"
      ],
      "execution_count": 14,
      "outputs": []
    },
    {
      "cell_type": "code",
      "metadata": {
        "id": "1YUYO9BKnJut"
      },
      "source": [
        "pred = predict_target_values(X_test, Y_test, best_K, best_n)"
      ],
      "execution_count": 15,
      "outputs": []
    },
    {
      "cell_type": "code",
      "metadata": {
        "colab": {
          "base_uri": "https://localhost:8080/"
        },
        "id": "CLZmroc4h_jX",
        "outputId": "9900b112-8193-4239-dc44-606d499783ce"
      },
      "source": [
        "print(calculate_accuracy(pred, Y_test))"
      ],
      "execution_count": 16,
      "outputs": [
        {
          "output_type": "stream",
          "text": [
            "1.0\n"
          ],
          "name": "stdout"
        }
      ]
    }
  ]
}